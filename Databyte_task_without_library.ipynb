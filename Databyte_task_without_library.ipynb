{
  "nbformat": 4,
  "nbformat_minor": 0,
  "metadata": {
    "colab": {
      "provenance": [],
      "authorship_tag": "ABX9TyOB5e12dwZjNQ4rKeYA0qry",
      "include_colab_link": true
    },
    "kernelspec": {
      "name": "python3",
      "display_name": "Python 3"
    },
    "language_info": {
      "name": "python"
    }
  },
  "cells": [
    {
      "cell_type": "markdown",
      "metadata": {
        "id": "view-in-github",
        "colab_type": "text"
      },
      "source": [
        "<a href=\"https://colab.research.google.com/github/Sudharsannk/Databyte_NLP/blob/main/Databyte_task_without_library.ipynb\" target=\"_parent\"><img src=\"https://colab.research.google.com/assets/colab-badge.svg\" alt=\"Open In Colab\"/></a>"
      ]
    },
    {
      "cell_type": "markdown",
      "source": [
        "SVM without library"
      ],
      "metadata": {
        "id": "oMW0t3R1yjzc"
      }
    },
    {
      "cell_type": "code",
      "execution_count": 3,
      "metadata": {
        "id": "-i2swA0xtu0M"
      },
      "outputs": [],
      "source": [
        "import numpy as np\n",
        "import pandas as pd\n",
        "from sklearn.model_selection import train_test_split\n",
        "from ucimlrepo import fetch_ucirepo\n",
        "\n",
        "# Fetch the dataset\n",
        "spambase = fetch_ucirepo(id=94)\n",
        "X = spambase.data.features\n",
        "y = spambase.data.targets\n",
        "\n",
        "X = np.array(X, dtype=np.float64)\n",
        "y = np.array(y, dtype=np.int64)\n",
        "\n",
        "# Convert labels to {-1, 1}\n",
        "y = np.where(y == 0, -1, 1)\n",
        "\n",
        "# Split the data into training and test sets\n",
        "X_train, X_test, y_train, y_test = train_test_split(X, y, test_size=0.2, random_state=42)\n",
        "\n",
        "def svm_train(X, y, learning_rate=0.001, lambda_param=0.01, n_iters=1000):\n",
        "    n_samples, n_features = X.shape\n",
        "    weights = np.zeros(n_features)\n",
        "    bias = 0\n",
        "\n",
        "    for _ in range(n_iters):\n",
        "        for idx, x_i in enumerate(X):\n",
        "            condition = y[idx] * (np.dot(x_i, weights) - bias) >= 1\n",
        "            if condition:\n",
        "                weights -= learning_rate * (2 * lambda_param * weights)\n",
        "            else:\n",
        "                weights -= learning_rate * (2 * lambda_param * weights - x_i * y[idx])\n",
        "                bias -= learning_rate * y[idx]\n",
        "\n",
        "    return weights, bias\n",
        "\n",
        "def svm_predict(X, weights, bias):\n",
        "    linear_output = np.dot(X, weights) - bias\n",
        "    return np.sign(linear_output)\n",
        "\n",
        "# Train the SVM\n",
        "weights, bias = svm_train(X_train, y_train, learning_rate=0.001, lambda_param=0.01, n_iters=1000)\n",
        "\n",
        "# Predict on the test set\n",
        "y_pred = svm_predict(X_test, weights, bias)\n"
      ]
    },
    {
      "cell_type": "code",
      "source": [
        "pip install ucimlrepo"
      ],
      "metadata": {
        "colab": {
          "base_uri": "https://localhost:8080/"
        },
        "id": "HjFJq9iKulKS",
        "outputId": "7c4598c9-e64f-4f8d-e6cd-e4bbbc9ccb16"
      },
      "execution_count": 2,
      "outputs": [
        {
          "output_type": "stream",
          "name": "stdout",
          "text": [
            "Collecting ucimlrepo\n",
            "  Downloading ucimlrepo-0.0.7-py3-none-any.whl (8.0 kB)\n",
            "Requirement already satisfied: pandas>=1.0.0 in /usr/local/lib/python3.10/dist-packages (from ucimlrepo) (2.0.3)\n",
            "Requirement already satisfied: certifi>=2020.12.5 in /usr/local/lib/python3.10/dist-packages (from ucimlrepo) (2024.6.2)\n",
            "Requirement already satisfied: python-dateutil>=2.8.2 in /usr/local/lib/python3.10/dist-packages (from pandas>=1.0.0->ucimlrepo) (2.8.2)\n",
            "Requirement already satisfied: pytz>=2020.1 in /usr/local/lib/python3.10/dist-packages (from pandas>=1.0.0->ucimlrepo) (2023.4)\n",
            "Requirement already satisfied: tzdata>=2022.1 in /usr/local/lib/python3.10/dist-packages (from pandas>=1.0.0->ucimlrepo) (2024.1)\n",
            "Requirement already satisfied: numpy>=1.21.0 in /usr/local/lib/python3.10/dist-packages (from pandas>=1.0.0->ucimlrepo) (1.25.2)\n",
            "Requirement already satisfied: six>=1.5 in /usr/local/lib/python3.10/dist-packages (from python-dateutil>=2.8.2->pandas>=1.0.0->ucimlrepo) (1.16.0)\n",
            "Installing collected packages: ucimlrepo\n",
            "Successfully installed ucimlrepo-0.0.7\n"
          ]
        }
      ]
    },
    {
      "cell_type": "code",
      "source": [
        "from sklearn.metrics import accuracy_score, precision_score, confusion_matrix, f1_score"
      ],
      "metadata": {
        "id": "gZd1FLhCU1Pn"
      },
      "execution_count": 7,
      "outputs": []
    },
    {
      "cell_type": "code",
      "source": [
        "y =y.reshape(4601)"
      ],
      "metadata": {
        "id": "vvUOXUZju1CH"
      },
      "execution_count": 17,
      "outputs": []
    },
    {
      "cell_type": "code",
      "source": [
        "accuracy_score(y_test,y_pred)"
      ],
      "metadata": {
        "colab": {
          "base_uri": "https://localhost:8080/"
        },
        "id": "eo-k47zbwpI2",
        "outputId": "2611dc7b-ff8b-4b7b-d697-3c1dcc07f8b5"
      },
      "execution_count": 9,
      "outputs": [
        {
          "output_type": "execute_result",
          "data": {
            "text/plain": [
              "0.762214983713355"
            ]
          },
          "metadata": {},
          "execution_count": 9
        }
      ]
    },
    {
      "cell_type": "code",
      "source": [
        "precision_score(y_test,y_pred)"
      ],
      "metadata": {
        "colab": {
          "base_uri": "https://localhost:8080/"
        },
        "id": "_b5B4-N5xFzk",
        "outputId": "e3d219ec-3aa1-464a-f4c6-63977ffa9ac9"
      },
      "execution_count": 10,
      "outputs": [
        {
          "output_type": "execute_result",
          "data": {
            "text/plain": [
              "0.7381615598885793"
            ]
          },
          "metadata": {},
          "execution_count": 10
        }
      ]
    },
    {
      "cell_type": "code",
      "source": [
        "confusion_matrix(y_test,y_pred)"
      ],
      "metadata": {
        "colab": {
          "base_uri": "https://localhost:8080/"
        },
        "id": "o7Sf-XTTxGUr",
        "outputId": "f678c76a-7d2b-47d9-d9ff-f1c9da231eb6"
      },
      "execution_count": 12,
      "outputs": [
        {
          "output_type": "execute_result",
          "data": {
            "text/plain": [
              "array([[437,  94],\n",
              "       [125, 265]])"
            ]
          },
          "metadata": {},
          "execution_count": 12
        }
      ]
    },
    {
      "cell_type": "code",
      "source": [
        "f1_score(y_test, y_pred)"
      ],
      "metadata": {
        "colab": {
          "base_uri": "https://localhost:8080/"
        },
        "id": "GQf7OY6GxHqC",
        "outputId": "e76f8f6a-9f11-4e2d-dfd1-3925e4bb12eb"
      },
      "execution_count": 13,
      "outputs": [
        {
          "output_type": "execute_result",
          "data": {
            "text/plain": [
              "0.7076101468624834"
            ]
          },
          "metadata": {},
          "execution_count": 13
        }
      ]
    },
    {
      "cell_type": "markdown",
      "source": [
        "Logistic regression (without using library)"
      ],
      "metadata": {
        "id": "DHSqzHWlybVb"
      }
    },
    {
      "cell_type": "code",
      "source": [
        "import numpy as np\n",
        "from sklearn.model_selection import train_test_split\n",
        "from sklearn.preprocessing import StandardScaler\n",
        "from ucimlrepo import fetch_ucirepo\n",
        "\n",
        "# Fetch the dataset\n",
        "spambase = fetch_ucirepo(id=94)\n",
        "X = spambase.data.features\n",
        "y = spambase.data.targets\n",
        "\n",
        "# Convert to numpy arrays\n",
        "X = np.array(X, dtype=np.float64)\n",
        "y = np.array(y, dtype=np.int64)\n",
        "\n",
        "# Normalize the features\n",
        "scaler = StandardScaler()\n",
        "X = scaler.fit_transform(X)\n",
        "\n",
        "# Split the data into training and test sets\n",
        "X_train, X_test, y_train, y_test = train_test_split(X, y, test_size=0.2, random_state=42)\n",
        "\n",
        "# Sigmoid function\n",
        "def sigmoid(z):\n",
        "    return 1 / (1 + np.exp(-z))\n",
        "\n",
        "# Prediction function\n",
        "def predict(X, weights, bias):\n",
        "    linear_model = np.dot(X, weights) + bias\n",
        "    y_pred = sigmoid(linear_model)\n",
        "    return y_pred\n",
        "\n",
        "# Gradient descent\n",
        "def logistic_regression_train(X, y, learning_rate=0.001, n_iters=1000):\n",
        "    n_samples, n_features = X.shape\n",
        "    weights = np.zeros(n_features)\n",
        "    bias = 0\n",
        "\n",
        "    # Reshape y to be a 1D array\n",
        "    y = y.ravel()  # Flatten y to match the shape expected in the gradient calculation\n",
        "\n",
        "    for _ in range(n_iters):\n",
        "        linear_model = np.dot(X, weights) + bias\n",
        "        y_pred = sigmoid(linear_model)\n",
        "\n",
        "        # Compute gradients\n",
        "        dw = (1 / n_samples) * np.dot(X.T, (y_pred - y))\n",
        "        db = (1 / n_samples) * np.sum(y_pred - y)\n",
        "\n",
        "        # Update parameters\n",
        "        weights -= learning_rate * dw\n",
        "        bias -= learning_rate * db\n",
        "\n",
        "    return weights, bias\n",
        "\n",
        "# Train the logistic regression model\n",
        "weights, bias = logistic_regression_train(X_train, y_train, learning_rate=0.01, n_iters=10000)  # Increased iterations to 10000\n",
        "\n",
        "# Predict on the test set\n",
        "y_pred_prob = predict(X_test, weights, bias)\n",
        "y_pred = np.where(y_pred_prob >= 0.5, 1, 0)\n",
        "\n",
        "# Calculate accuracy\n",
        "accuracy = np.mean(y_pred == y_test.ravel()) # Flatten y_test for comparison\n",
        "print(\"Accuracy:\", accuracy * 100, \"%\")"
      ],
      "metadata": {
        "colab": {
          "base_uri": "https://localhost:8080/"
        },
        "id": "snHt-e3dESTu",
        "outputId": "a3ea0fd5-edf9-40e4-a170-386868d0bcb4"
      },
      "execution_count": 14,
      "outputs": [
        {
          "output_type": "stream",
          "name": "stdout",
          "text": [
            "Accuracy: 91.42236699239956 %\n"
          ]
        }
      ]
    },
    {
      "cell_type": "code",
      "source": [
        "f1_score(y_test, y_pred)"
      ],
      "metadata": {
        "colab": {
          "base_uri": "https://localhost:8080/"
        },
        "id": "xawiCKOdRvrK",
        "outputId": "587d5b6a-abd9-4b70-bd57-ad5ce2b6315f"
      },
      "execution_count": 15,
      "outputs": [
        {
          "output_type": "execute_result",
          "data": {
            "text/plain": [
              "0.8945260347129506"
            ]
          },
          "metadata": {},
          "execution_count": 15
        }
      ]
    },
    {
      "cell_type": "code",
      "source": [
        "confusion_matrix(y_test,y_pred)"
      ],
      "metadata": {
        "colab": {
          "base_uri": "https://localhost:8080/"
        },
        "id": "Prn6d12KSEiU",
        "outputId": "28a6cbae-5215-4242-8680-53856487e6e9"
      },
      "execution_count": 16,
      "outputs": [
        {
          "output_type": "execute_result",
          "data": {
            "text/plain": [
              "array([[507,  24],\n",
              "       [ 55, 335]])"
            ]
          },
          "metadata": {},
          "execution_count": 16
        }
      ]
    },
    {
      "cell_type": "code",
      "source": [
        "precision_score(y_test,y_pred)"
      ],
      "metadata": {
        "colab": {
          "base_uri": "https://localhost:8080/"
        },
        "id": "uWYZb_7MyWgE",
        "outputId": "22cf3de1-032e-4a62-c3ac-96c4d1c417ac"
      },
      "execution_count": 17,
      "outputs": [
        {
          "output_type": "execute_result",
          "data": {
            "text/plain": [
              "0.9331476323119777"
            ]
          },
          "metadata": {},
          "execution_count": 17
        }
      ]
    },
    {
      "cell_type": "code",
      "source": [],
      "metadata": {
        "id": "ClaJCxd1yZR5"
      },
      "execution_count": null,
      "outputs": []
    }
  ]
}